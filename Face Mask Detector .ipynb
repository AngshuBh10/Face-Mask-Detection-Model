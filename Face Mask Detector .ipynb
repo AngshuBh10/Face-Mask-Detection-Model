{
 "cells": [
  {
   "cell_type": "code",
   "execution_count": 1,
   "metadata": {},
   "outputs": [],
   "source": [
    "# Importing libraries and packages\n",
    "import tensorflow as tf \n"
   ]
  },
  {
   "cell_type": "code",
   "execution_count": 4,
   "metadata": {},
   "outputs": [
    {
     "name": "stdout",
     "output_type": "stream",
     "text": [
      "Found 853 images belonging to 2 classes.\n"
     ]
    }
   ],
   "source": [
    "#Fitting CNN to the images\n",
    "train_datagen = ImageDataGenerator(rescale = 1./255,\n",
    "                                   shear_range = 0.2,\n",
    "                                   zoom_range = 0.2,\n",
    "                                   horizontal_flip = True)\n",
    "training_set = train_datagen.flow_from_directory('images',\n",
    "                                                 target_size = (64, 64),\n",
    "                                                 batch_size = 32,\n",
    "                                                 class_mode = 'binary')\n",
    "\n"
   ]
  },
  {
   "cell_type": "code",
   "execution_count": 3,
   "metadata": {},
   "outputs": [],
   "source": [
    "#importing libraries\n",
    "from tensorflow.keras.preprocessing.image import ImageDataGenerator\n",
    "from tensorflow.keras.models import Sequential\n",
    "from tensorflow.keras.layers import Conv2D\n",
    "from tensorflow.keras.layers import MaxPooling2D\n",
    "from tensorflow.keras.layers import Flatten\n",
    "from tensorflow.keras.layers import Dense"
   ]
  },
  {
   "cell_type": "code",
   "execution_count": 5,
   "metadata": {},
   "outputs": [],
   "source": [
    "#initializing the CNN\n",
    "classifier = Sequential()"
   ]
  },
  {
   "cell_type": "code",
   "execution_count": 6,
   "metadata": {},
   "outputs": [],
   "source": [
    "# Convolution\n",
    "classifier.add(Conv2D(32, (3, 3), input_shape = (64, 64, 3), activation = 'relu'))"
   ]
  },
  {
   "cell_type": "code",
   "execution_count": 7,
   "metadata": {},
   "outputs": [],
   "source": [
    "# Pooling\n",
    "classifier.add(MaxPooling2D(pool_size = (2, 2)))\n"
   ]
  },
  {
   "cell_type": "code",
   "execution_count": 8,
   "metadata": {},
   "outputs": [],
   "source": [
    "# Adding a second convolutional layer\n",
    "classifier.add(Conv2D(32, (3, 3), activation = 'relu'))\n",
    "classifier.add(MaxPooling2D(pool_size = (2, 2)))"
   ]
  },
  {
   "cell_type": "code",
   "execution_count": 9,
   "metadata": {},
   "outputs": [],
   "source": [
    "# Flattening\n",
    "classifier.add(Flatten())\n"
   ]
  },
  {
   "cell_type": "code",
   "execution_count": 10,
   "metadata": {},
   "outputs": [],
   "source": [
    "# Full connection\n",
    "classifier.add(Dense(units = 128, activation = 'relu'))\n",
    "classifier.add(Dense(units = 1, activation = 'sigmoid'))"
   ]
  },
  {
   "cell_type": "code",
   "execution_count": 11,
   "metadata": {},
   "outputs": [],
   "source": [
    "# Compiling the CNN\n",
    "classifier.compile(optimizer = 'adam', loss = 'binary_crossentropy', metrics = ['accuracy'])"
   ]
  },
  {
   "cell_type": "code",
   "execution_count": 44,
   "metadata": {},
   "outputs": [
    {
     "name": "stdout",
     "output_type": "stream",
     "text": [
      "Found 2 images belonging to 2 classes.\n"
     ]
    }
   ],
   "source": [
    "test_datagen = ImageDataGenerator(rescale = 1./255,\n",
    "                                   shear_range = 0.2,\n",
    "                                   zoom_range = 0.2,\n",
    "                                   horizontal_flip = True)\n",
    "test_set = train_datagen.flow_from_directory('test_set',\n",
    "                                                 target_size = (64, 64),\n",
    "                                                 batch_size = 32,\n",
    "                                                 class_mode = 'binary')\n"
   ]
  },
  {
   "cell_type": "code",
   "execution_count": 43,
   "metadata": {},
   "outputs": [],
   "source": [
    "#Training the CNN\n",
    "import sys\n",
    "from PIL import Image\n",
    "sys.modules['Image'] = Image\n"
   ]
  },
  {
   "cell_type": "code",
   "execution_count": 13,
   "metadata": {},
   "outputs": [
    {
     "name": "stdout",
     "output_type": "stream",
     "text": [
      "c:\\users\\angshuman\\appdata\\local\\programs\\python\\python36\\lib\\site-packages\\PIL\\Image.py\n"
     ]
    }
   ],
   "source": [
    "from PIL import Image\n",
    "print(Image.__file__)"
   ]
  },
  {
   "cell_type": "code",
   "execution_count": 14,
   "metadata": {},
   "outputs": [
    {
     "name": "stdout",
     "output_type": "stream",
     "text": [
      "c:\\users\\angshuman\\appdata\\local\\programs\\python\\python36\\lib\\site-packages\\PIL\\Image.py\n"
     ]
    }
   ],
   "source": [
    "import Image\n",
    "print(Image.__file__)"
   ]
  },
  {
   "cell_type": "code",
   "execution_count": 45,
   "metadata": {},
   "outputs": [
    {
     "name": "stdout",
     "output_type": "stream",
     "text": [
      "Train for 27 steps, validate for 1 steps\n",
      "Epoch 1/10\n",
      "27/27 [==============================] - 31s 1s/step - loss: 0.3523 - accuracy: 0.8523 - val_loss: 0.3549 - val_accuracy: 1.0000\n",
      "Epoch 2/10\n",
      "27/27 [==============================] - 29s 1s/step - loss: 0.3351 - accuracy: 0.8781 - val_loss: 0.4089 - val_accuracy: 0.5000\n",
      "Epoch 3/10\n",
      "27/27 [==============================] - 30s 1s/step - loss: 0.3153 - accuracy: 0.8652 - val_loss: 0.3305 - val_accuracy: 1.0000\n",
      "Epoch 4/10\n",
      "27/27 [==============================] - 30s 1s/step - loss: 0.3231 - accuracy: 0.8640 - val_loss: 0.6249 - val_accuracy: 0.5000\n",
      "Epoch 5/10\n",
      "27/27 [==============================] - 30s 1s/step - loss: 0.2735 - accuracy: 0.8816 - val_loss: 0.5824 - val_accuracy: 0.5000\n",
      "Epoch 6/10\n",
      "27/27 [==============================] - 30s 1s/step - loss: 0.2870 - accuracy: 0.8875 - val_loss: 0.7750 - val_accuracy: 0.5000\n",
      "Epoch 7/10\n",
      "27/27 [==============================] - 33s 1s/step - loss: 0.2552 - accuracy: 0.8980 - val_loss: 0.0860 - val_accuracy: 1.0000\n",
      "Epoch 8/10\n",
      "27/27 [==============================] - 52s 2s/step - loss: 0.2610 - accuracy: 0.8898 - val_loss: 0.8966 - val_accuracy: 0.5000\n",
      "Epoch 9/10\n",
      "27/27 [==============================] - 29s 1s/step - loss: 0.2040 - accuracy: 0.9191 - val_loss: 0.0704 - val_accuracy: 1.0000\n",
      "Epoch 10/10\n",
      "27/27 [==============================] - 29s 1s/step - loss: 0.2106 - accuracy: 0.9109 - val_loss: 0.4613 - val_accuracy: 0.5000\n"
     ]
    },
    {
     "data": {
      "text/plain": [
       "<tensorflow.python.keras.callbacks.History at 0x2311f4a6a20>"
      ]
     },
     "execution_count": 45,
     "metadata": {},
     "output_type": "execute_result"
    }
   ],
   "source": [
    "classifier.fit(x=training_set,validation_data=test_set,epochs=10)"
   ]
  },
  {
   "cell_type": "code",
   "execution_count": 46,
   "metadata": {},
   "outputs": [],
   "source": [
    "#Predicting for the given picture 1\n",
    "import numpy as np\n",
    "from tensorflow.keras.preprocessing import image\n",
    "test_img=image.load_img('Dataset/Test data/test image 1.png',target_size = (64,64))\n",
    "test_img=image.img_to_array(test_img)\n",
    "test_img=np.expand_dims(test_img,axis=0)\n",
    "result=classifier.predict(test_img)\n",
    "training_set.class_indices\n",
    "if(result[0][0]==1):\n",
    "    prediction = 'Wearing Mask'\n",
    "else:\n",
    "    prediction = 'Didnt wear Mask'\n"
   ]
  },
  {
   "cell_type": "code",
   "execution_count": 47,
   "metadata": {},
   "outputs": [
    {
     "name": "stdout",
     "output_type": "stream",
     "text": [
      "Wearing Mask\n"
     ]
    }
   ],
   "source": [
    "print(prediction)"
   ]
  },
  {
   "cell_type": "code",
   "execution_count": 48,
   "metadata": {},
   "outputs": [],
   "source": [
    "#Predicting for the given picture 2\n",
    "import numpy as np\n",
    "from tensorflow.keras.preprocessing import image\n",
    "test_img2=image.load_img('Dataset/Test Data/test image 2.png',target_size = (64,64))\n",
    "test_img2=image.img_to_array(test_img2)\n",
    "test_img2=np.expand_dims(test_img2,axis=0)\n",
    "result=classifier.predict(test_img2)\n",
    "training_set.class_indices\n",
    "if(result[0][0]==1):\n",
    "    prediction_2 = 'Wearing Mask'\n",
    "else:\n",
    "    prediction_2 = 'Didnt wear Mask'\n"
   ]
  },
  {
   "cell_type": "code",
   "execution_count": 49,
   "metadata": {},
   "outputs": [
    {
     "name": "stdout",
     "output_type": "stream",
     "text": [
      "Didnt wear Mask\n"
     ]
    }
   ],
   "source": [
    "print(prediction_2)"
   ]
  },
  {
   "cell_type": "code",
   "execution_count": null,
   "metadata": {},
   "outputs": [],
   "source": []
  },
  {
   "cell_type": "code",
   "execution_count": null,
   "metadata": {},
   "outputs": [],
   "source": []
  },
  {
   "cell_type": "code",
   "execution_count": null,
   "metadata": {},
   "outputs": [],
   "source": []
  }
 ],
 "metadata": {
  "kernelspec": {
   "display_name": "Python 3",
   "language": "python",
   "name": "python3"
  },
  "language_info": {
   "codemirror_mode": {
    "name": "ipython",
    "version": 3
   },
   "file_extension": ".py",
   "mimetype": "text/x-python",
   "name": "python",
   "nbconvert_exporter": "python",
   "pygments_lexer": "ipython3",
   "version": "3.6.6"
  }
 },
 "nbformat": 4,
 "nbformat_minor": 4
}
